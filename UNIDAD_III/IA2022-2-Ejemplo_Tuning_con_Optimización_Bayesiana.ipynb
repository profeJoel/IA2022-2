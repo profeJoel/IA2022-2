{
  "nbformat": 4,
  "nbformat_minor": 0,
  "metadata": {
    "colab": {
      "provenance": []
    },
    "kernelspec": {
      "display_name": "Python 3",
      "name": "python3"
    },
    "language_info": {
      "name": "python"
    }
  },
  "cells": [
    {
      "cell_type": "code",
      "metadata": {
        "id": "SoPu-DtpPPJW"
      },
      "source": [
        "import pandas as pd\n",
        "import numpy as np\n",
        "\n",
        "from sklearn.model_selection import KFold\n",
        "\n",
        "import lightgbm as lgb\n",
        "\n",
        "MAX_EVALS = 500\n",
        "K = 10"
      ],
      "execution_count": 3,
      "outputs": []
    },
    {
      "cell_type": "code",
      "metadata": {
        "colab": {
          "base_uri": "https://localhost:8080/"
        },
        "id": "ut1WwqG9VeNu",
        "outputId": "5c428ced-313a-4a10-ec5b-cc6deb5c3c30"
      },
      "source": [
        "data = pd.read_csv('caravan-insurance-challenge.csv')\n",
        "train = data[data['ORIGIN'] == 'train']\n",
        "test = data[data['ORIGIN'] == 'test']\n",
        "\n",
        "print(train.shape)\n",
        "print(test.shape)"
      ],
      "execution_count": 4,
      "outputs": [
        {
          "output_type": "stream",
          "name": "stdout",
          "text": [
            "(5822, 87)\n",
            "(4000, 87)\n"
          ]
        }
      ]
    },
    {
      "cell_type": "code",
      "metadata": {
        "colab": {
          "base_uri": "https://localhost:8080/",
          "height": 334
        },
        "id": "7wn3s067WB9h",
        "outputId": "30799a06-5580-4620-ff4e-ff4fb7688ea1"
      },
      "source": [
        "#preprocesamiento\n",
        "train_labels = np.array(train['CARAVAN'].astype(np.int32)).reshape((-1,))\n",
        "test_labels = np.array(test['CARAVAN'].astype(np.int32)).reshape((-1,))\n",
        "\n",
        "train = train.drop(columns = ['ORIGIN', 'CARAVAN'])\n",
        "test = test.drop(columns = ['ORIGIN', 'CARAVAN'])\n",
        "\n",
        "features = np.array(train)\n",
        "test_features = np.array(test)\n",
        "labels = train_labels[:]\n",
        "\n",
        "print('Train: ', train.shape)\n",
        "print('Test: ', test.shape)\n",
        "train.head()"
      ],
      "execution_count": 5,
      "outputs": [
        {
          "output_type": "stream",
          "name": "stdout",
          "text": [
            "Train:  (5822, 85)\n",
            "Test:  (4000, 85)\n"
          ]
        },
        {
          "output_type": "execute_result",
          "data": {
            "text/plain": [
              "   MOSTYPE  MAANTHUI  MGEMOMV  MGEMLEEF  MOSHOOFD  MGODRK  MGODPR  MGODOV  \\\n",
              "0       33         1        3         2         8       0       5       1   \n",
              "1       37         1        2         2         8       1       4       1   \n",
              "2       37         1        2         2         8       0       4       2   \n",
              "3        9         1        3         3         3       2       3       2   \n",
              "4       40         1        4         2        10       1       4       1   \n",
              "\n",
              "   MGODGE  MRELGE  ...  ALEVEN  APERSONG  AGEZONG  AWAOREG  ABRAND  AZEILPL  \\\n",
              "0       3       7  ...       0         0        0        0       1        0   \n",
              "1       4       6  ...       0         0        0        0       1        0   \n",
              "2       4       3  ...       0         0        0        0       1        0   \n",
              "3       4       5  ...       0         0        0        0       1        0   \n",
              "4       4       7  ...       0         0        0        0       1        0   \n",
              "\n",
              "   APLEZIER  AFIETS  AINBOED  ABYSTAND  \n",
              "0         0       0        0         0  \n",
              "1         0       0        0         0  \n",
              "2         0       0        0         0  \n",
              "3         0       0        0         0  \n",
              "4         0       0        0         0  \n",
              "\n",
              "[5 rows x 85 columns]"
            ],
            "text/html": [
              "\n",
              "  <div id=\"df-a186c15d-447e-4a56-be75-37db2dd3383a\">\n",
              "    <div class=\"colab-df-container\">\n",
              "      <div>\n",
              "<style scoped>\n",
              "    .dataframe tbody tr th:only-of-type {\n",
              "        vertical-align: middle;\n",
              "    }\n",
              "\n",
              "    .dataframe tbody tr th {\n",
              "        vertical-align: top;\n",
              "    }\n",
              "\n",
              "    .dataframe thead th {\n",
              "        text-align: right;\n",
              "    }\n",
              "</style>\n",
              "<table border=\"1\" class=\"dataframe\">\n",
              "  <thead>\n",
              "    <tr style=\"text-align: right;\">\n",
              "      <th></th>\n",
              "      <th>MOSTYPE</th>\n",
              "      <th>MAANTHUI</th>\n",
              "      <th>MGEMOMV</th>\n",
              "      <th>MGEMLEEF</th>\n",
              "      <th>MOSHOOFD</th>\n",
              "      <th>MGODRK</th>\n",
              "      <th>MGODPR</th>\n",
              "      <th>MGODOV</th>\n",
              "      <th>MGODGE</th>\n",
              "      <th>MRELGE</th>\n",
              "      <th>...</th>\n",
              "      <th>ALEVEN</th>\n",
              "      <th>APERSONG</th>\n",
              "      <th>AGEZONG</th>\n",
              "      <th>AWAOREG</th>\n",
              "      <th>ABRAND</th>\n",
              "      <th>AZEILPL</th>\n",
              "      <th>APLEZIER</th>\n",
              "      <th>AFIETS</th>\n",
              "      <th>AINBOED</th>\n",
              "      <th>ABYSTAND</th>\n",
              "    </tr>\n",
              "  </thead>\n",
              "  <tbody>\n",
              "    <tr>\n",
              "      <th>0</th>\n",
              "      <td>33</td>\n",
              "      <td>1</td>\n",
              "      <td>3</td>\n",
              "      <td>2</td>\n",
              "      <td>8</td>\n",
              "      <td>0</td>\n",
              "      <td>5</td>\n",
              "      <td>1</td>\n",
              "      <td>3</td>\n",
              "      <td>7</td>\n",
              "      <td>...</td>\n",
              "      <td>0</td>\n",
              "      <td>0</td>\n",
              "      <td>0</td>\n",
              "      <td>0</td>\n",
              "      <td>1</td>\n",
              "      <td>0</td>\n",
              "      <td>0</td>\n",
              "      <td>0</td>\n",
              "      <td>0</td>\n",
              "      <td>0</td>\n",
              "    </tr>\n",
              "    <tr>\n",
              "      <th>1</th>\n",
              "      <td>37</td>\n",
              "      <td>1</td>\n",
              "      <td>2</td>\n",
              "      <td>2</td>\n",
              "      <td>8</td>\n",
              "      <td>1</td>\n",
              "      <td>4</td>\n",
              "      <td>1</td>\n",
              "      <td>4</td>\n",
              "      <td>6</td>\n",
              "      <td>...</td>\n",
              "      <td>0</td>\n",
              "      <td>0</td>\n",
              "      <td>0</td>\n",
              "      <td>0</td>\n",
              "      <td>1</td>\n",
              "      <td>0</td>\n",
              "      <td>0</td>\n",
              "      <td>0</td>\n",
              "      <td>0</td>\n",
              "      <td>0</td>\n",
              "    </tr>\n",
              "    <tr>\n",
              "      <th>2</th>\n",
              "      <td>37</td>\n",
              "      <td>1</td>\n",
              "      <td>2</td>\n",
              "      <td>2</td>\n",
              "      <td>8</td>\n",
              "      <td>0</td>\n",
              "      <td>4</td>\n",
              "      <td>2</td>\n",
              "      <td>4</td>\n",
              "      <td>3</td>\n",
              "      <td>...</td>\n",
              "      <td>0</td>\n",
              "      <td>0</td>\n",
              "      <td>0</td>\n",
              "      <td>0</td>\n",
              "      <td>1</td>\n",
              "      <td>0</td>\n",
              "      <td>0</td>\n",
              "      <td>0</td>\n",
              "      <td>0</td>\n",
              "      <td>0</td>\n",
              "    </tr>\n",
              "    <tr>\n",
              "      <th>3</th>\n",
              "      <td>9</td>\n",
              "      <td>1</td>\n",
              "      <td>3</td>\n",
              "      <td>3</td>\n",
              "      <td>3</td>\n",
              "      <td>2</td>\n",
              "      <td>3</td>\n",
              "      <td>2</td>\n",
              "      <td>4</td>\n",
              "      <td>5</td>\n",
              "      <td>...</td>\n",
              "      <td>0</td>\n",
              "      <td>0</td>\n",
              "      <td>0</td>\n",
              "      <td>0</td>\n",
              "      <td>1</td>\n",
              "      <td>0</td>\n",
              "      <td>0</td>\n",
              "      <td>0</td>\n",
              "      <td>0</td>\n",
              "      <td>0</td>\n",
              "    </tr>\n",
              "    <tr>\n",
              "      <th>4</th>\n",
              "      <td>40</td>\n",
              "      <td>1</td>\n",
              "      <td>4</td>\n",
              "      <td>2</td>\n",
              "      <td>10</td>\n",
              "      <td>1</td>\n",
              "      <td>4</td>\n",
              "      <td>1</td>\n",
              "      <td>4</td>\n",
              "      <td>7</td>\n",
              "      <td>...</td>\n",
              "      <td>0</td>\n",
              "      <td>0</td>\n",
              "      <td>0</td>\n",
              "      <td>0</td>\n",
              "      <td>1</td>\n",
              "      <td>0</td>\n",
              "      <td>0</td>\n",
              "      <td>0</td>\n",
              "      <td>0</td>\n",
              "      <td>0</td>\n",
              "    </tr>\n",
              "  </tbody>\n",
              "</table>\n",
              "<p>5 rows × 85 columns</p>\n",
              "</div>\n",
              "      <button class=\"colab-df-convert\" onclick=\"convertToInteractive('df-a186c15d-447e-4a56-be75-37db2dd3383a')\"\n",
              "              title=\"Convert this dataframe to an interactive table.\"\n",
              "              style=\"display:none;\">\n",
              "        \n",
              "  <svg xmlns=\"http://www.w3.org/2000/svg\" height=\"24px\"viewBox=\"0 0 24 24\"\n",
              "       width=\"24px\">\n",
              "    <path d=\"M0 0h24v24H0V0z\" fill=\"none\"/>\n",
              "    <path d=\"M18.56 5.44l.94 2.06.94-2.06 2.06-.94-2.06-.94-.94-2.06-.94 2.06-2.06.94zm-11 1L8.5 8.5l.94-2.06 2.06-.94-2.06-.94L8.5 2.5l-.94 2.06-2.06.94zm10 10l.94 2.06.94-2.06 2.06-.94-2.06-.94-.94-2.06-.94 2.06-2.06.94z\"/><path d=\"M17.41 7.96l-1.37-1.37c-.4-.4-.92-.59-1.43-.59-.52 0-1.04.2-1.43.59L10.3 9.45l-7.72 7.72c-.78.78-.78 2.05 0 2.83L4 21.41c.39.39.9.59 1.41.59.51 0 1.02-.2 1.41-.59l7.78-7.78 2.81-2.81c.8-.78.8-2.07 0-2.86zM5.41 20L4 18.59l7.72-7.72 1.47 1.35L5.41 20z\"/>\n",
              "  </svg>\n",
              "      </button>\n",
              "      \n",
              "  <style>\n",
              "    .colab-df-container {\n",
              "      display:flex;\n",
              "      flex-wrap:wrap;\n",
              "      gap: 12px;\n",
              "    }\n",
              "\n",
              "    .colab-df-convert {\n",
              "      background-color: #E8F0FE;\n",
              "      border: none;\n",
              "      border-radius: 50%;\n",
              "      cursor: pointer;\n",
              "      display: none;\n",
              "      fill: #1967D2;\n",
              "      height: 32px;\n",
              "      padding: 0 0 0 0;\n",
              "      width: 32px;\n",
              "    }\n",
              "\n",
              "    .colab-df-convert:hover {\n",
              "      background-color: #E2EBFA;\n",
              "      box-shadow: 0px 1px 2px rgba(60, 64, 67, 0.3), 0px 1px 3px 1px rgba(60, 64, 67, 0.15);\n",
              "      fill: #174EA6;\n",
              "    }\n",
              "\n",
              "    [theme=dark] .colab-df-convert {\n",
              "      background-color: #3B4455;\n",
              "      fill: #D2E3FC;\n",
              "    }\n",
              "\n",
              "    [theme=dark] .colab-df-convert:hover {\n",
              "      background-color: #434B5C;\n",
              "      box-shadow: 0px 1px 3px 1px rgba(0, 0, 0, 0.15);\n",
              "      filter: drop-shadow(0px 1px 2px rgba(0, 0, 0, 0.3));\n",
              "      fill: #FFFFFF;\n",
              "    }\n",
              "  </style>\n",
              "\n",
              "      <script>\n",
              "        const buttonEl =\n",
              "          document.querySelector('#df-a186c15d-447e-4a56-be75-37db2dd3383a button.colab-df-convert');\n",
              "        buttonEl.style.display =\n",
              "          google.colab.kernel.accessAllowed ? 'block' : 'none';\n",
              "\n",
              "        async function convertToInteractive(key) {\n",
              "          const element = document.querySelector('#df-a186c15d-447e-4a56-be75-37db2dd3383a');\n",
              "          const dataTable =\n",
              "            await google.colab.kernel.invokeFunction('convertToInteractive',\n",
              "                                                     [key], {});\n",
              "          if (!dataTable) return;\n",
              "\n",
              "          const docLinkHtml = 'Like what you see? Visit the ' +\n",
              "            '<a target=\"_blank\" href=https://colab.research.google.com/notebooks/data_table.ipynb>data table notebook</a>'\n",
              "            + ' to learn more about interactive tables.';\n",
              "          element.innerHTML = '';\n",
              "          dataTable['output_type'] = 'display_data';\n",
              "          await google.colab.output.renderOutput(dataTable, element);\n",
              "          const docLink = document.createElement('div');\n",
              "          docLink.innerHTML = docLinkHtml;\n",
              "          element.appendChild(docLink);\n",
              "        }\n",
              "      </script>\n",
              "    </div>\n",
              "  </div>\n",
              "  "
            ]
          },
          "metadata": {},
          "execution_count": 5
        }
      ]
    },
    {
      "cell_type": "code",
      "metadata": {
        "colab": {
          "base_uri": "https://localhost:8080/",
          "height": 295
        },
        "id": "zeNuG3CjXbW2",
        "outputId": "8c35f746-9d1a-4c8a-8a11-a4a84b28032a"
      },
      "source": [
        "import matplotlib.pyplot as plt\n",
        "import seaborn as sns\n",
        "%matplotlib inline\n",
        "\n",
        "plt.hist(labels, edgecolor = 'k');\n",
        "plt.xlabel('Label');\n",
        "plt.ylabel('Cantidad');\n",
        "plt.title('Cantidad de Labels');"
      ],
      "execution_count": 6,
      "outputs": [
        {
          "output_type": "display_data",
          "data": {
            "text/plain": [
              "<Figure size 432x288 with 1 Axes>"
            ],
            "image/png": "[encoded data removed]"
          },
          "metadata": {
            "needs_background": "light"
          }
        }
      ]
    },
    {
      "cell_type": "markdown",
      "metadata": {
        "id": "fJnHK1kPaGGW"
      },
      "source": [
        "###Resultados Base (sin optimización)"
      ]
    },
    {
      "cell_type": "code",
      "metadata": {
        "colab": {
          "base_uri": "https://localhost:8080/"
        },
        "id": "uzM-eu2IYS8r",
        "outputId": "10383810-c554-487c-8a20-b9dcb6e70d51"
      },
      "source": [
        "model = lgb.LGBMClassifier()\n",
        "model"
      ],
      "execution_count": 7,
      "outputs": [
        {
          "output_type": "execute_result",
          "data": {
            "text/plain": [
              "LGBMClassifier()"
            ]
          },
          "metadata": {},
          "execution_count": 7
        }
      ]
    },
    {
      "cell_type": "code",
      "metadata": {
        "colab": {
          "base_uri": "https://localhost:8080/"
        },
        "id": "hZ6H8OaqYyPM",
        "outputId": "e9463f24-ddc6-4419-a848-fd664074e46d"
      },
      "source": [
        "from sklearn.metrics import roc_auc_score\n",
        "from timeit import default_timer as timer\n",
        "\n",
        "t_inicio = timer()\n",
        "model.fit(features, labels) #X, y\n",
        "t_train = timer() - t_inicio\n",
        "\n",
        "predicciones = model.predict_proba(test_features)[:, 1]\n",
        "auc = roc_auc_score(test_labels, predicciones) # y_reales, y_predichos\n",
        "\n",
        "print('La métrica Base en test es {:.4f}.'.format(auc))\n",
        "print('Tiempo de entrenamiento es {:.4f} segundos'.format(t_train))"
      ],
      "execution_count": 8,
      "outputs": [
        {
          "output_type": "stream",
          "name": "stdout",
          "text": [
            "La métrica Base en test es 0.7092.\n",
            "Tiempo de entrenamiento es 0.3348 segundos\n"
          ]
        }
      ]
    },
    {
      "cell_type": "markdown",
      "metadata": {
        "id": "LOdb3p6AaBzr"
      },
      "source": [
        "###Random Search"
      ]
    },
    {
      "cell_type": "code",
      "metadata": {
        "id": "rohQFJVsaAUf"
      },
      "source": [
        "import random"
      ],
      "execution_count": 9,
      "outputs": []
    },
    {
      "cell_type": "code",
      "metadata": {
        "id": "mgPZ2BxxaQ5U"
      },
      "source": [
        "#Dominio\n",
        "#Espacio de búsqueda de Hyperparámetros\n",
        "param_grid = {\n",
        "    'class_weight': [None, 'balanced'],\n",
        "    'boosting_type': ['gbdt','goss','dart'],\n",
        "    'num_leaves': list(range(30, 150)),\n",
        "    'learning_rate': list(np.logspace(np.log(0.005), np.log(0.2), base = np.exp(1), num = 1000)),\n",
        "    'subsample_for_bin': list(range(20000, 300000, 500000)),\n",
        "    'min_child_samples': list(range(20,500,5)),\n",
        "    'reg_alpha': list(np.linspace(0,1)),\n",
        "    'reg_lambda': list(np.linspace(0,1)),\n",
        "    'colsample_bytree': list(np.linspace(0.6, 1, 10))\n",
        "}\n",
        "\n",
        "subsample_dist = list(np.linspace(0.5,1,100)) #se va a utilizar en el caso de 'boosting_type'='goss'"
      ],
      "execution_count": 10,
      "outputs": []
    },
    {
      "cell_type": "code",
      "metadata": {
        "colab": {
          "base_uri": "https://localhost:8080/",
          "height": 304
        },
        "id": "qFW-Ru4ecGCh",
        "outputId": "3e87975c-2a3d-4fc3-bc12-722bb0e28736"
      },
      "source": [
        "plt.hist(param_grid['learning_rate'], color='r', edgecolor='k');\n",
        "plt.xlabel('Learning rate', size= 14);\n",
        "plt.ylabel('Cantidad', size=14);\n",
        "plt.title('Distribución del Learning Rate', size= 18);"
      ],
      "execution_count": 11,
      "outputs": [
        {
          "output_type": "display_data",
          "data": {
            "text/plain": [
              "<Figure size 432x288 with 1 Axes>"
            ],
            "image/png": "[encoded data removed]"
          },
          "metadata": {
            "needs_background": "light"
          }
        }
      ]
    },
    {
      "cell_type": "code",
      "metadata": {
        "colab": {
          "base_uri": "https://localhost:8080/",
          "height": 304
        },
        "id": "ZKE8j5FRcp74",
        "outputId": "ef8ddb8d-c794-4448-d98b-98cfeacb3d8d"
      },
      "source": [
        "plt.hist(param_grid['num_leaves'], color='b', edgecolor='k');\n",
        "plt.xlabel('num_leaves', size= 14);\n",
        "plt.ylabel('Cantidad', size=14);\n",
        "plt.title('Distribución del num_leaves', size= 18);"
      ],
      "execution_count": 12,
      "outputs": [
        {
          "output_type": "display_data",
          "data": {
            "text/plain": [
              "<Figure size 432x288 with 1 Axes>"
            ],
            "image/png": "[encoded data removed]"
          },
          "metadata": {
            "needs_background": "light"
          }
        }
      ]
    },
    {
      "cell_type": "code",
      "metadata": {
        "colab": {
          "base_uri": "https://localhost:8080/"
        },
        "id": "SlpKKTWtc-na",
        "outputId": "cea8266e-c32e-4b84-c5a7-057032d48951"
      },
      "source": [
        "#Tomar una muestra del dominio de hiperparámetros\n",
        "params = {key: random.sample(value, 1)[0] for key, value in param_grid.items()}\n",
        "params"
      ],
      "execution_count": 13,
      "outputs": [
        {
          "output_type": "execute_result",
          "data": {
            "text/plain": [
              "{'class_weight': 'balanced',\n",
              " 'boosting_type': 'goss',\n",
              " 'num_leaves': 96,\n",
              " 'learning_rate': 0.01235570696588628,\n",
              " 'subsample_for_bin': 20000,\n",
              " 'min_child_samples': 265,\n",
              " 'reg_alpha': 0.7142857142857142,\n",
              " 'reg_lambda': 0.2040816326530612,\n",
              " 'colsample_bytree': 0.8222222222222222}"
            ]
          },
          "metadata": {},
          "execution_count": 13
        }
      ]
    },
    {
      "cell_type": "code",
      "metadata": {
        "colab": {
          "base_uri": "https://localhost:8080/"
        },
        "id": "FfpDWRfsdo8r",
        "outputId": "694d4241-9b9f-4f88-f009-775a8af49b2d"
      },
      "source": [
        "params['subsample'] = random.sample(subsample_dist, 1)[0] if params['boosting_type'] != 'goss' else 1.0\n",
        "params"
      ],
      "execution_count": 14,
      "outputs": [
        {
          "output_type": "execute_result",
          "data": {
            "text/plain": [
              "{'class_weight': 'balanced',\n",
              " 'boosting_type': 'goss',\n",
              " 'num_leaves': 96,\n",
              " 'learning_rate': 0.01235570696588628,\n",
              " 'subsample_for_bin': 20000,\n",
              " 'min_child_samples': 265,\n",
              " 'reg_alpha': 0.7142857142857142,\n",
              " 'reg_lambda': 0.2040816326530612,\n",
              " 'colsample_bytree': 0.8222222222222222,\n",
              " 'subsample': 1.0}"
            ]
          },
          "metadata": {},
          "execution_count": 14
        }
      ]
    },
    {
      "cell_type": "code",
      "metadata": {
        "colab": {
          "base_uri": "https://localhost:8080/"
        },
        "id": "u1x8JegGd-nY",
        "outputId": "5e4abce2-55c8-4d36-fd97-749868ff8872"
      },
      "source": [
        "#Validación cruzada con interrupción temprana en LightGBM\n",
        "\n",
        "train_set = lgb.Dataset(features, label = labels)\n",
        "\n",
        "r = lgb.cv(params, train_set, num_boost_round=10000, nfold=10, metrics='auc', early_stopping_rounds=100, verbose_eval=False, seed=50)\n",
        "r_best = np.max(r['auc-mean'])\n",
        "r_best_std = r['auc-stdv'][np.argmax(r['auc-mean'])]\n",
        "\n",
        "print('El máximo AUC:{:.5f}.'.format(r_best, r_best_std))\n",
        "print('número iteraciones ideales: {}.'.format(np.argmax(r['auc-mean'])+1))"
      ],
      "execution_count": 15,
      "outputs": [
        {
          "output_type": "stream",
          "name": "stdout",
          "text": [
            "El máximo AUC:0.75741.\n",
            "número iteraciones ideales: 78.\n"
          ]
        }
      ]
    },
    {
      "cell_type": "code",
      "metadata": {
        "id": "YBGF-jpIfwl_"
      },
      "source": [
        "#dataframe para los resultados de random search\n",
        "random_results = pd.DataFrame(columns = ['loss','params','iteration','estimators','time'], index = list(range(MAX_EVALS)))"
      ],
      "execution_count": 16,
      "outputs": []
    },
    {
      "cell_type": "code",
      "metadata": {
        "id": "jQ1SiLmigKuR"
      },
      "source": [
        "from time import time\n",
        "\n",
        "#Definición de la Función Objetivo\n",
        "def random_objective(params, iteration, n_folds = K):\n",
        "  print(iteration)\n",
        "  \n",
        "  t_inicio = time()\n",
        "  cv_results = lgb.cv(params, train_set, num_boost_round=10000, nfold=n_folds, metrics='auc', early_stopping_rounds=100, seed=50)\n",
        "  t_total = time() - t_inicio\n",
        "\n",
        "  best_score = np.max(cv_results['auc-mean'])\n",
        "  loss = 1 - best_score #Los algoritmos de busqueda, generalmente Minimizan.\n",
        "\n",
        "  n_estimators = int(np.argmax(cv_results['auc-mean'])+1)\n",
        "\n",
        "  return [loss, params, iteration, n_estimators, t_total]"
      ],
      "execution_count": 17,
      "outputs": []
    },
    {
      "cell_type": "code",
      "metadata": {
        "id": "jaS8qcg6haZ3"
      },
      "source": [
        "\n",
        "#implementación de Random Search\n",
        "\n",
        "%%capture\n",
        "random.seed(50)\n",
        "\n",
        "for i in range(MAX_EVALS):\n",
        "\n",
        "  params = {key: random.sample(value, 1)[0] for key, value in param_grid.items()} #El paso de valor aleatorio de random Search\n",
        "  print(params)\n",
        "\n",
        "  if params['boosting_type'] == 'goss':\n",
        "    params['subsample'] = 1.0\n",
        "  else:\n",
        "    params['subsample'] = random.sample(subsample_dist, 1)[0]\n",
        "  \n",
        "\n",
        "  results_list = random_objective(params, i)\n",
        "  random_results.loc[i,:] = results_list"
      ],
      "execution_count": null,
      "outputs": []
    },
    {
      "cell_type": "code",
      "metadata": {
        "id": "YcbtFsnhjLjm"
      },
      "source": [
        "#Reordenamiento\n",
        "random_results.sort_values('loss', ascending = True, inplace = True)\n",
        "random_results.reset_index(inplace= True, drop=True)\n",
        "random_results.head()"
      ],
      "execution_count": null,
      "outputs": []
    },
    {
      "cell_type": "code",
      "metadata": {
        "id": "OHMtHucMj3li"
      },
      "source": [
        "#El mejor tuning de hiperparámetros\n",
        "random_results.loc[0, 'params']"
      ],
      "execution_count": null,
      "outputs": []
    },
    {
      "cell_type": "code",
      "metadata": {
        "id": "zu3U6_m9kVOf"
      },
      "source": [
        "#Para utilizar el mejor tuning en el modelo\n",
        "best_random_params = random_results.loc[0, 'params'].copy()\n",
        "best_random_estimators = int(random_results.loc[0,'estimators'])\n",
        "\n",
        "#TUNEAR EL MODELO\n",
        "best_random_model = lgb.LGBClassifier(n_estimators = best_random_estimators, n_jobs = -1, objective='binary', **best_random_params, random_state = 50)\n",
        "best_random_model.fit(features, labels)\n",
        "\n",
        "predicciones = best_random_model.predict_proba(test_features)[:, 1]\n",
        "\n",
        "print('El máximo AUC:{:.5f}.'.format(roc_auc_score(test_labels, predicciones)))\n",
        "print('número iteraciones ideales: {}.'.format(random_results.loc[0,'iteration']))"
      ],
      "execution_count": null,
      "outputs": []
    }
  ]
}