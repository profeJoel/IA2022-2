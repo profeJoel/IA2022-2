{
  "nbformat": 4,
  "nbformat_minor": 0,
  "metadata": {
    "colab": {
      "provenance": [],
      "collapsed_sections": []
    },
    "kernelspec": {
      "name": "python3",
      "display_name": "Python 3"
    },
    "language_info": {
      "name": "python"
    }
  },
  "cells": [
    {
      "cell_type": "markdown",
      "metadata": {
        "id": "fwxPny205hDk"
      },
      "source": [
        "###Datasets\n"
      ]
    },
    {
      "cell_type": "code",
      "metadata": {
        "id": "W1ev_nNb5Qwd"
      },
      "source": [
        "#AND\n",
        "X_train = [[1,1],\n",
        "           [1,0],\n",
        "           [0,1],\n",
        "           [0,0]]\n",
        "y_train = [1,0,0,0]"
      ],
      "execution_count": null,
      "outputs": []
    },
    {
      "cell_type": "code",
      "metadata": {
        "id": "lpkUoazP55mm"
      },
      "source": [
        "#OR\n",
        "X_train = [[1,1],\n",
        "           [1,0],\n",
        "           [0,1],\n",
        "           [0,0]]\n",
        "y_train = [1,1,1,0]"
      ],
      "execution_count": null,
      "outputs": []
    },
    {
      "cell_type": "code",
      "metadata": {
        "id": "r03uv8lb59pM"
      },
      "source": [
        "#NOT\n",
        "X_train = [[0],[1]]\n",
        "y_train = [1,0]"
      ],
      "execution_count": null,
      "outputs": []
    },
    {
      "cell_type": "markdown",
      "metadata": {
        "id": "V1j_9c1C6IOS"
      },
      "source": [
        "###Modelo de Perceptrón"
      ]
    },
    {
      "cell_type": "code",
      "metadata": {
        "id": "v2cT3JQU6L6-"
      },
      "source": [
        "import sklearn.metrics as metric\n",
        "import numpy as np"
      ],
      "execution_count": null,
      "outputs": []
    },
    {
      "cell_type": "code",
      "metadata": {
        "colab": {
          "base_uri": "https://localhost:8080/"
        },
        "id": "6M54g8dx6YJZ",
        "outputId": "1577ad1e-3c7f-41c4-d2af-3cf73adc304b"
      },
      "source": [
        "#Creación de Perceptrón\n",
        "from sklearn.linear_model import Perceptron\n",
        "\n",
        "red = Perceptron(max_iter = 300)\n",
        "red.fit(X_train, y_train)\n",
        "\n",
        "X_test = X_train\n",
        "y_test = y_train\n",
        "\n",
        "y_pred = red.predict(X_train)\n",
        "print(y_pred)\n",
        "\n",
        "precision = metric.accuracy_score(y_test, y_pred, normalize= True)\n",
        "print(\"Precisión = \", precision)\n",
        "print(\"Bias = \", red.intercept_, \"Parámetros: \", red.coef_)"
      ],
      "execution_count": null,
      "outputs": [
        {
          "output_type": "stream",
          "text": [
            "[0 0 0 0]\n",
            "Precisión =  0.5\n",
            "Bias =  [0.] Parámetros:  [[0. 0.]]\n"
          ],
          "name": "stdout"
        }
      ]
    },
    {
      "cell_type": "code",
      "metadata": {
        "id": "qRK5UQUn8xRe"
      },
      "source": [
        "#XOR\n",
        "X_train = [[1,1],\n",
        "           [1,0],\n",
        "           [0,1],\n",
        "           [0,0]]\n",
        "y_train = [0,1,1,0]"
      ],
      "execution_count": null,
      "outputs": []
    },
    {
      "cell_type": "code",
      "metadata": {
        "id": "Z85KoTzp_KXG"
      },
      "source": [
        "#XNOR\n",
        "X_train = [[1,1],\n",
        "           [1,0],\n",
        "           [0,1],\n",
        "           [0,0]]\n",
        "y_train = [1,0,0,1]"
      ],
      "execution_count": null,
      "outputs": []
    },
    {
      "cell_type": "code",
      "metadata": {
        "colab": {
          "base_uri": "https://localhost:8080/"
        },
        "id": "RzbHABL89Los",
        "outputId": "4eb0dbda-8365-44e3-b401-0ad73f856129"
      },
      "source": [
        "#Perceptrón Multicapa\n",
        "from sklearn.neural_network import MLPClassifier\n",
        "\n",
        "red_MLP = MLPClassifier(solver = 'lbfgs', hidden_layer_sizes = (2,1), activation = 'logistic', max_iter=100)\n",
        "red_MLP.fit(X_train, y_train)\n",
        "\n",
        "X_test = X_train\n",
        "y_test = y_train\n",
        "\n",
        "y_pred = red_MLP.predict(X_train)\n",
        "print(y_pred)\n",
        "\n",
        "precision = metric.accuracy_score(np.array(y_test).flatten(), np.array(y_pred).flatten(), normalize= True)\n",
        "print(\"Precisión = \", precision)\n",
        "\n",
        "print([coef.shape for coef in red_MLP.coefs_])"
      ],
      "execution_count": null,
      "outputs": [
        {
          "output_type": "stream",
          "text": [
            "[1 0 0 1]\n",
            "Precisión =  1.0\n",
            "[(2, 2), (2, 1), (1, 1)]\n"
          ],
          "name": "stdout"
        }
      ]
    }
  ]
}